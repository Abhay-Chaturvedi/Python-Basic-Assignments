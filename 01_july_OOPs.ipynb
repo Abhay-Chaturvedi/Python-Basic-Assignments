{
  "nbformat": 4,
  "nbformat_minor": 0,
  "metadata": {
    "colab": {
      "provenance": [],
      "authorship_tag": "ABX9TyNEiGXyBaGKdhYqKDVEMTOM",
      "include_colab_link": true
    },
    "kernelspec": {
      "name": "python3",
      "display_name": "Python 3"
    },
    "language_info": {
      "name": "python"
    }
  },
  "cells": [
    {
      "cell_type": "markdown",
      "metadata": {
        "id": "view-in-github",
        "colab_type": "text"
      },
      "source": [
        "<a href=\"https://colab.research.google.com/github/Abhay-Chaturvedi/Python-Basic-Assignments/blob/main/01_july_OOPs.ipynb\" target=\"_parent\"><img src=\"https://colab.research.google.com/assets/colab-badge.svg\" alt=\"Open In Colab\"/></a>"
      ]
    },
    {
      "cell_type": "markdown",
      "source": [
        "1. Object Oriented programming language is based on classes and objects. It is used to structure a program into a simple, reusable piece of code. The entire software program runs by having multiple objects interact with objects to create large programs.\n",
        "To hold entire data into a single object such that it would be easy to pass this to other methods and objects."
      ],
      "metadata": {
        "id": "hJ9e-1JUNZIq"
      }
    },
    {
      "cell_type": "markdown",
      "source": [
        "2. Object in Python is a collectin of data, its prperties and methods"
      ],
      "metadata": {
        "id": "CSR5sI0xNkdO"
      }
    },
    {
      "cell_type": "markdown",
      "source": [
        "3. Classes in Python are blueprint of a dataset on the basis of which objects are created"
      ],
      "metadata": {
        "id": "6GMwf469O89Y"
      }
    },
    {
      "cell_type": "markdown",
      "source": [
        "4. A varibale defined under a class is called an attribute of a class while a function which performs some action is called a metod"
      ],
      "metadata": {
        "id": "RbULUxhFPcuB"
      }
    },
    {
      "cell_type": "markdown",
      "source": [
        "5. Class variables are useful for storing values that are constant across all instances of a class, while instance variables are useful for storing unique values for each object created from the class.\n",
        "\n",
        "  Class variable is declared using static keyword"
      ],
      "metadata": {
        "id": "T0FiZY31P3Dz"
      }
    },
    {
      "cell_type": "markdown",
      "source": [
        "6. Self is the first argument to be passed in Constructor and Instance Method. It allows you to access variables, attributes, and methods of a defined class in Python. The self parameter doesn't have to be named “self,” as you can call it by any other name"
      ],
      "metadata": {
        "id": "Lnx3wRyeQVp-"
      }
    },
    {
      "cell_type": "code",
      "source": [
        "#7\n",
        "\n",
        "class Book:\n",
        "  def __init__(self,title,author,isbn,publication_year,available_copies):\n",
        "    self.title=title\n",
        "    self.author=author\n",
        "    self.isbn=isbn\n",
        "    self.publication_year=publication_year\n",
        "    self.available_copies=available_copies\n",
        "  def check_out(self):\n",
        "    if self.available_copies > 0:\n",
        "      self.available_copies -= 1\n",
        "  def return_book(self):\n",
        "    self.available_copies += 1\n",
        "  def display_book_info(self):\n",
        "    print(f\"Book Title is {self.title}. Its author is {self.author}, ISBN is {self.isbn}, available copies are {self.available_copies} and its publication year is {self.publication_year}\")\n",
        "\n",
        "book=Book(\"Book Title\",\"Author Abhay\",12345,2002,15)\n",
        "book.display_book_info()\n",
        "book.check_out()\n",
        "book.display_book_info()\n",
        "book.return_book()\n",
        "book.display_book_info()\n"
      ],
      "metadata": {
        "colab": {
          "base_uri": "https://localhost:8080/"
        },
        "id": "Gs0bIbIUREsC",
        "outputId": "406f87f6-cd42-46ed-c645-d5704c797287"
      },
      "execution_count": null,
      "outputs": [
        {
          "output_type": "stream",
          "name": "stdout",
          "text": [
            "Book Title is Book Title. Its author is Author Abhay, ISBN is 12345, available copies are 15 and its publication year is 2002\n",
            "Book Title is Book Title. Its author is Author Abhay, ISBN is 12345, available copies are 14 and its publication year is 2002\n",
            "Book Title is Book Title. Its author is Author Abhay, ISBN is 12345, available copies are 15 and its publication year is 2002\n"
          ]
        }
      ]
    },
    {
      "cell_type": "code",
      "source": [
        "#8\n",
        "\n",
        "class Ticket:\n",
        "  def __init__(self,ticket_id,event_name,event_date,venue,seat_number,price,is_reserved):\n",
        "    self.ticket_id=ticket_id\n",
        "    self.event_name=event_name\n",
        "    self.event_date=event_date\n",
        "    self.venue=venue\n",
        "    self.seat_number=seat_number\n",
        "    self.price=price\n",
        "    self.is_reserved=is_reserved\n",
        "  def reserve_ticket(self):\n",
        "    if self.is_reserved == 'not reserved':\n",
        "      self.is_reserved = 'reserved'\n",
        "  def cancel_reservation(self):\n",
        "    if self.is_reserved == 'reserved':\n",
        "      self.is_reserved = 'not reserved'\n",
        "  def display_ticket_info(self):\n",
        "    print(f\"Ticket id: {self.ticket_id}\")\n",
        "    print(f\"Event name: {self.event_name}\")\n",
        "    print(f\"Event Date: {self.event_date}\")\n",
        "    print(f\"Venue: {self.venue}\")\n",
        "    print(f\"Seat Number: {self.seat_number}\")\n",
        "    print(f\"Ticket Price: {self.price}\")\n",
        "    print(f\"Reservation Status: {self.is_reserved}\")\n",
        "    print('')\n",
        "\n",
        "\n",
        "ticket=Ticket('T123456','Cricket Match','1 Jan 2024','Stadium','AC34',2000,'reserved')\n",
        "ticket.display_ticket_info()\n",
        "ticket.cancel_reservation()\n",
        "ticket.display_ticket_info()\n",
        "ticket.reserve_ticket()\n",
        "ticket.display_ticket_info()"
      ],
      "metadata": {
        "colab": {
          "base_uri": "https://localhost:8080/"
        },
        "id": "ili2nE6OwTwV",
        "outputId": "4a318055-1b0a-4ac3-dcb5-5ed730e0aa43"
      },
      "execution_count": 5,
      "outputs": [
        {
          "output_type": "stream",
          "name": "stdout",
          "text": [
            "Ticket id: T123456\n",
            "Event name: Cricket Match\n",
            "Event Date: 1 Jan 2024\n",
            "Venue: Stadium\n",
            "Seat Number: AC34\n",
            "Ticket Price: 2000\n",
            "Reservation Status: reserved\n",
            "\n",
            "Ticket id: T123456\n",
            "Event name: Cricket Match\n",
            "Event Date: 1 Jan 2024\n",
            "Venue: Stadium\n",
            "Seat Number: AC34\n",
            "Ticket Price: 2000\n",
            "Reservation Status: not reserved\n",
            "\n",
            "Ticket id: T123456\n",
            "Event name: Cricket Match\n",
            "Event Date: 1 Jan 2024\n",
            "Venue: Stadium\n",
            "Seat Number: AC34\n",
            "Ticket Price: 2000\n",
            "Reservation Status: reserved\n",
            "\n"
          ]
        }
      ]
    },
    {
      "cell_type": "markdown",
      "source": [],
      "metadata": {
        "id": "3BHHUhPQQuqn"
      }
    },
    {
      "cell_type": "code",
      "source": [
        "#9\n",
        "\n",
        "class ShoppingCart:\n",
        "  def __init__(self,items):\n",
        "    self.items=items\n",
        "  def add_item(self,item):\n",
        "    self.items.append(item)\n",
        "  def remove_item(self,item):\n",
        "    for i in range(len(self.items)):\n",
        "      if self.items[i]==item:\n",
        "        self.items.remove(item)\n",
        "        break\n",
        "  def view_cart(self):\n",
        "    print(self.items)\n",
        "  def clear_cart(self):\n",
        "    self.items=[]\n",
        "\n",
        "ShoppingCart1=ShoppingCart(['Bread','Butter','Jam'])\n",
        "ShoppingCart1.view_cart()\n",
        "ShoppingCart1.add_item('Sauce')\n",
        "ShoppingCart1.view_cart()\n",
        "ShoppingCart1.remove_item(\"Jam\")\n",
        "ShoppingCart1.view_cart()\n",
        "ShoppingCart1.clear_cart()\n",
        "ShoppingCart1.view_cart()"
      ],
      "metadata": {
        "colab": {
          "base_uri": "https://localhost:8080/"
        },
        "id": "T4FFzAht1zEW",
        "outputId": "1a135bd5-a86f-4e42-c58d-a586a2d4bd23"
      },
      "execution_count": 22,
      "outputs": [
        {
          "output_type": "stream",
          "name": "stdout",
          "text": [
            "['Bread', 'Butter', 'Jam']\n",
            "['Bread', 'Butter', 'Jam', 'Sauce']\n",
            "['Bread', 'Butter', 'Sauce']\n",
            "[]\n"
          ]
        }
      ]
    },
    {
      "cell_type": "code",
      "source": [
        "#10\n",
        "\n",
        "class Student:\n",
        "  def __init__(self,name,age,grade,student_id,attendance):\n",
        "    self.name=name\n",
        "    self.age=age\n",
        "    self.grade=grade\n",
        "    self.student_id=student_id\n",
        "    self.attendance=attendance\n",
        "  def update_attendance(self,date,status):\n",
        "    self.attendance.update({date:status})\n",
        "  def get_attendance(self):\n",
        "    print(self.attendance)\n",
        "  def get_average_attendance(self):\n",
        "    count=0\n",
        "    val=self.attendance.values()\n",
        "    for i in val:\n",
        "      if i=='present':\n",
        "        count += 1\n",
        "    print(val,count)\n",
        "    print(count*100/len(self.attendance))\n",
        "\n",
        "student=Student('abhay',15,11,'S001',{'1-jan-23':'present','2-jan-23':'present','3-jan-23':'absent'})\n",
        "student.get_attendance()\n",
        "student.update_attendance('4-jan-2023','present')\n",
        "student.get_attendance()\n",
        "student.get_average_attendance()"
      ],
      "metadata": {
        "colab": {
          "base_uri": "https://localhost:8080/"
        },
        "id": "lw7bnSM0Ai6y",
        "outputId": "27040002-0375-43cc-f6d1-daf7602fed6a"
      },
      "execution_count": 37,
      "outputs": [
        {
          "output_type": "stream",
          "name": "stdout",
          "text": [
            "{'1-jan-23': 'present', '2-jan-23': 'present', '3-jan-23': 'absent'}\n",
            "{'1-jan-23': 'present', '2-jan-23': 'present', '3-jan-23': 'absent', '4-jan-2023': 'present'}\n",
            "dict_values(['present', 'present', 'absent', 'present']) 3\n",
            "75.0\n"
          ]
        }
      ]
    }
  ]
}