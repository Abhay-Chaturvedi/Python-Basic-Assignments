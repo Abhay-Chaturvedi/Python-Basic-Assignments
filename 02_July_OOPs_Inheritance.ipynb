{
  "nbformat": 4,
  "nbformat_minor": 0,
  "metadata": {
    "colab": {
      "provenance": [],
      "authorship_tag": "ABX9TyPtzMV9LT2msr/iVnYR2EJl",
      "include_colab_link": true
    },
    "kernelspec": {
      "name": "python3",
      "display_name": "Python 3"
    },
    "language_info": {
      "name": "python"
    }
  },
  "cells": [
    {
      "cell_type": "markdown",
      "metadata": {
        "id": "view-in-github",
        "colab_type": "text"
      },
      "source": [
        "<a href=\"https://colab.research.google.com/github/Abhay-Chaturvedi/Python-Basic-Assignments/blob/main/02_July_OOPs_Inheritance.ipynb\" target=\"_parent\"><img src=\"https://colab.research.google.com/assets/colab-badge.svg\" alt=\"Open In Colab\"/></a>"
      ]
    },
    {
      "cell_type": "markdown",
      "source": [
        "1. In object-oriented programming (OOP), inheritance is a mechanism that allows a class to inherit properties and behaviors from another class. It used to promote code reuse and establishes relationships between classes"
      ],
      "metadata": {
        "id": "xeBFPRcB22Xu"
      }
    },
    {
      "cell_type": "markdown",
      "source": [
        "2. Single inheritance is one derived class having a single base class. On the contrary, multiple inheritance has two or more than two base classes, but single derived class.\n",
        "\n",
        "  Single inheritance is simple but doesn't allow code utilisation in the way multiple inheritance does while multiple inheritance is complex and increases runtime of a program\n"
      ],
      "metadata": {
        "id": "GZ8I9FvT3zlJ"
      }
    },
    {
      "cell_type": "markdown",
      "source": [
        "3. In inheritance a class inherits properties and behaviors of anther class. Iherting class is called a derived class while the one whose properites and behaviours are inherited is called a base class"
      ],
      "metadata": {
        "id": "hNfyVMro9s7n"
      }
    },
    {
      "cell_type": "markdown",
      "source": [
        "4. Protected attributes and methods have limited accessibility, primarily within the class and its subclasses (derived classes). They are denoted by prefixing the attribute or method name with a single underscore (_). The underscore serves as a convention to indicate that the attribute or method should be treated as protected\n",
        "\n",
        "  Private attributes and methods are intended to be accessed only within the class where they are defined. They are denoted by prefixing the attribute or method name with double underscores (__)\n",
        "\n",
        "  Public attributes and methods can be accessed from anywhere, both within the class and outside of it. By default, all attributes and methods in a class are considered public"
      ],
      "metadata": {
        "id": "HRUBV6Kp_KT5"
      }
    },
    {
      "cell_type": "code",
      "source": [
        "#5\n",
        "\"\"\"\n",
        "Super keword is used to access attributes and mehods of the base class inside a derived class\n",
        "\"\"\"\n",
        "\n",
        "class Person:\n",
        "    def __init__(self,name):\n",
        "        self.name=name\n",
        "    def display(self):\n",
        "        print(f\"Name is {self.name}\")\n",
        "class Teacher(Person):\n",
        "    def __init__(self,name,subject):\n",
        "        super().__init__(name)\n",
        "        self.subject=subject\n",
        "    def display(self):\n",
        "        super().display()\n",
        "        print(f\"Subject is {self.subject}\")\n",
        "\n",
        "teacher = Teacher(\"Krish\",\"DS\")\n",
        "teacher.display()"
      ],
      "metadata": {
        "colab": {
          "base_uri": "https://localhost:8080/"
        },
        "id": "Zr7nTmKJACaR",
        "outputId": "70b9bdb3-185f-4a1e-d87d-be5720a166bd"
      },
      "execution_count": 1,
      "outputs": [
        {
          "output_type": "stream",
          "name": "stdout",
          "text": [
            "Name is Krish\n",
            "Subject is DS\n"
          ]
        }
      ]
    },
    {
      "cell_type": "code",
      "source": [
        "#6\n",
        "\n",
        "class Vehicle:\n",
        "  def __init__(self,make,model,year):\n",
        "    self.make=make\n",
        "    self.model=model\n",
        "    self.year=year\n",
        "  def display(self):\n",
        "    print(f\"make is: {self.make}\")\n",
        "    print(f\"model is: {self.model}\")\n",
        "    print(f\"manufcturing year is: {self.year}\")\n",
        "\n",
        "class Car(Vehicle):\n",
        "  def __init__(self,make,model,year,fuel_type):\n",
        "    super().__init__(make,model,year)\n",
        "    self.fuel_type=fuel_type\n",
        "  def display(self):\n",
        "    super().display()\n",
        "    print(f\"fuel type is: {self.fuel_type}\")\n",
        "\n",
        "car=Car('Tata','Nexon','2018','EV')\n",
        "car.display()"
      ],
      "metadata": {
        "colab": {
          "base_uri": "https://localhost:8080/"
        },
        "id": "DENu6FLcA_zz",
        "outputId": "64f9071b-b744-4278-a806-5075a3907848"
      },
      "execution_count": 8,
      "outputs": [
        {
          "output_type": "stream",
          "name": "stdout",
          "text": [
            "make is: Tata\n",
            "model is: Nexon\n",
            "manufcturing year is: 2018\n",
            "fuel type is: EV\n"
          ]
        }
      ]
    },
    {
      "cell_type": "code",
      "source": [
        "#7\n",
        "class Employee:\n",
        "  def __init__(self,name,salary):\n",
        "    self.name=name\n",
        "    self.salary=salary\n",
        "  def display(self):\n",
        "    print(f\"Name is: {self.name}\")\n",
        "    print(f\"Salary is: {self.salary}\")\n",
        "\n",
        "class Manager(Employee):\n",
        "  def __init__(self,name,salary,department):\n",
        "    super().__init__(name,salary)\n",
        "    self.department=department\n",
        "  def display(self):\n",
        "    super().display()\n",
        "    print(f\"Department is: {self.department}\")\n",
        "\n",
        "class Developer(Employee):\n",
        "  def __init__(self,name,salary,programming_language):\n",
        "    super().__init__(name,salary)\n",
        "    self.programming_language=programming_language\n",
        "  def display(self):\n",
        "    super().display()\n",
        "    print(f\"Programming language is: {self.programming_language}\")\n",
        ""
      ],
      "metadata": {
        "id": "P_l76g14DvQk"
      },
      "execution_count": 9,
      "outputs": []
    },
    {
      "cell_type": "code",
      "source": [
        "#8\n",
        "\n",
        "class Shape:\n",
        "  def __init__(self,color,border_width):\n",
        "    self.color=color\n",
        "    self.border_width=border_width\n",
        "class Rectangle(Shape):\n",
        "  def __init__(self,color,border_width,length,width):\n",
        "    super().__init(color,border_width)\n",
        "    self.length=length\n",
        "    self.width=width\n",
        "class Circle(Shape):\n",
        "  def __init__(self,color,border_width,radius):\n",
        "    super().__init(color,border_width)\n",
        "    self.radius=radius"
      ],
      "metadata": {
        "id": "u19sh3kXHIU8"
      },
      "execution_count": 10,
      "outputs": []
    },
    {
      "cell_type": "code",
      "source": [
        "#9\n",
        "\n",
        "class Device:\n",
        "  def __init__(self,brand,model):\n",
        "    self.brand=brand\n",
        "    self.model=model\n",
        "class Phone(Device):\n",
        "  def __init__(self,brand,model,length,screen_size):\n",
        "    super().__init(brand,model)\n",
        "    self.length=length\n",
        "    self.screen_size=screen_size\n",
        "class Tablet(Device):\n",
        "  def __init__(self,brand,model,battery_capacity):\n",
        "    super().__init(brand,model)\n",
        "    self.battery_capacity=battery_capacity"
      ],
      "metadata": {
        "id": "TS9Xf2EjI6TR"
      },
      "execution_count": 12,
      "outputs": []
    },
    {
      "cell_type": "code",
      "source": [
        "#10\n",
        "\n",
        "class BankAccount:\n",
        "  def __init__(self,account_number,balance):\n",
        "    self.account_number=account_number\n",
        "    self.balance=balance\n",
        "class SavingsAccount(BankAccount):\n",
        "  def __init__(self,account_number,balance):\n",
        "    super().__init(account_number,balance)\n",
        "  def calculate_interest(self):\n",
        "    pass\n",
        "class SavingsAccount(BankAccount):\n",
        "  def __init__(self,account_number,balance):\n",
        "    super().__init(account_number,balance)\n",
        "  def deduct_fees(self):\n",
        "    pass"
      ],
      "metadata": {
        "id": "atQcXe9dLRZW"
      },
      "execution_count": 13,
      "outputs": []
    }
  ]
}