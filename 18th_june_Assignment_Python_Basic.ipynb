{
  "nbformat": 4,
  "nbformat_minor": 0,
  "metadata": {
    "colab": {
      "provenance": [],
      "authorship_tag": "ABX9TyNUQcIVL8oOtL0CUhG0NGOU",
      "include_colab_link": true
    },
    "kernelspec": {
      "name": "python3",
      "display_name": "Python 3"
    },
    "language_info": {
      "name": "python"
    }
  },
  "cells": [
    {
      "cell_type": "markdown",
      "metadata": {
        "id": "view-in-github",
        "colab_type": "text"
      },
      "source": [
        "<a href=\"https://colab.research.google.com/github/Abhay-Chaturvedi/Python-Basic-Assignments/blob/main/18th_june_Assignment_Python_Basic.ipynb\" target=\"_parent\"><img src=\"https://colab.research.google.com/assets/colab-badge.svg\" alt=\"Open In Colab\"/></a>"
      ]
    },
    {
      "cell_type": "markdown",
      "source": [
        "1. The code enters the else block only if the try clause does not raise an exception."
      ],
      "metadata": {
        "id": "a3i20T2e80ky"
      }
    },
    {
      "cell_type": "code",
      "source": [
        "try:\n",
        "    x=input(\"enter a string\")\n",
        "except:\n",
        "    print(\"There is no x\")\n",
        "else:\n",
        "    print(x)"
      ],
      "metadata": {
        "colab": {
          "base_uri": "https://localhost:8080/"
        },
        "id": "JHFKS-gx8_zf",
        "outputId": "4da8a348-7f54-41fd-eed6-bb6698f4d64d"
      },
      "execution_count": null,
      "outputs": [
        {
          "output_type": "stream",
          "name": "stdout",
          "text": [
            "enter a stringJai Shri Ram\n",
            "Jai Shri Ram\n"
          ]
        }
      ]
    },
    {
      "cell_type": "markdown",
      "source": [
        "2. Yes we can have nested try-except blocks"
      ],
      "metadata": {
        "id": "LW1EW-Sz9zKG"
      }
    },
    {
      "cell_type": "code",
      "source": [
        "x = 10\n",
        "y = 0\n",
        "str1 = 'test'\n",
        "\n",
        "try:\n",
        "    print(\"outer try block\")\n",
        "    try:\n",
        "        print(\"nested try block\")\n",
        "        print(x + str1 )\n",
        "    except TypeError as te:\n",
        "        print(\"nested except block\")\n",
        "        print(te)\n",
        "\n",
        "    print(x / y)\n",
        "except ZeroDivisionError as ze:\n",
        "    print(\"outer except block\")\n",
        "    print(ze)\n"
      ],
      "metadata": {
        "colab": {
          "base_uri": "https://localhost:8080/"
        },
        "id": "EwFsTVdT-J8q",
        "outputId": "558bb42e-36a9-44d8-ecf2-f350b3936366"
      },
      "execution_count": null,
      "outputs": [
        {
          "output_type": "stream",
          "name": "stdout",
          "text": [
            "outer try block\n",
            "nested try block\n",
            "nested except block\n",
            "unsupported operand type(s) for +: 'int' and 'str'\n",
            "outer except block\n",
            "division by zero\n"
          ]
        }
      ]
    },
    {
      "cell_type": "markdown",
      "source": [
        "3. Custom exception class"
      ],
      "metadata": {
        "id": "yPmTbbWp_Z6F"
      }
    },
    {
      "cell_type": "code",
      "source": [
        "class MyExcept(Exception):\n",
        "    \"Number Validation\"\n",
        "    pass\n",
        "try:\n",
        "    x=10\n",
        "    if x < 20:\n",
        "        raise MyExcept\n",
        "except MyExcept:\n",
        "    print(\"Number is small\")"
      ],
      "metadata": {
        "colab": {
          "base_uri": "https://localhost:8080/"
        },
        "id": "imxAJlDE_ejw",
        "outputId": "cb5c5b2f-c6f3-4de5-edcc-eb15e302d08d"
      },
      "execution_count": null,
      "outputs": [
        {
          "output_type": "stream",
          "name": "stdout",
          "text": [
            "Number is small\n"
          ]
        }
      ]
    },
    {
      "cell_type": "markdown",
      "source": [
        "4. Some Built in exception:\n",
        "\n",
        "  i. EOFError: it is raised when one of the built-in functions input() or raw_input() hits an end-of-file condition (EOF) without reading any data.\n",
        "\n",
        "  ii.\tFloatingPointError: It is raised by floating point operations that result in errors, when floating point exception control (fpectl) is turned on. Enabling fpectl requires an interpreter compiled with the --with-fpectl flag\n",
        "\n",
        "  iii.\tIndexError: Raised when a sequence subscript is out of range.\n",
        "\n",
        "  iv.\tMemoryError: Raised when an operation runs out of memory.\n",
        "\n",
        "  v.\tOverflowError: Raised when the result of an arithmetic operation is too large to be expressed by the normal number format.\n",
        "\n",
        "  vi.\tTabError: It occurs due to inconsistent use of tabs and spaces in indentation, error is raised when you try to indent code using both spaces and tabs.\n",
        "\n",
        "  vii.\tValueError: Raised when a built-in operation or function receives an argument that has the right type but an inappropriate value."
      ],
      "metadata": {
        "id": "nQxjYF0b_tsg"
      }
    },
    {
      "cell_type": "markdown",
      "source": [],
      "metadata": {
        "id": "dtvVe3b2_510"
      }
    },
    {
      "cell_type": "markdown",
      "source": [
        "5. Logging is a way of putting neccesry information abot program flow through whih execution of events in a code can be tracked. This is a very useful feature for software development as it helps in debugging  program which is not running as expected or throwing errors during execution."
      ],
      "metadata": {
        "id": "iWI-HLL3lgna"
      }
    },
    {
      "cell_type": "markdown",
      "source": [
        "6. Logging levels are the labels added to the log entries for the purpose of searching, filtering, and classifying log entries. This helps to manage the granularity of information. When log levels are set using the standard logging library, only events of that level or higher will be recorded.\n",
        "Loging levels in python are:\n",
        "\n",
        "  DEBUG: Detailed information, typically of interest only when diagnosing problems.\n",
        "\n",
        "  INFO: Confirmation that things are working as expected.\n",
        "\n",
        "  WARNING: An indication that something unexpected happened, or may happen in the future (e.g. ‘disk space low’). The software is still working as expected.\n",
        "\n",
        "  ERROR: More serious problem that prevented the software from performing a function.\n",
        "\n",
        "  CRITICAL: A very serious error, indicating that the program itself may be unable to continue running."
      ],
      "metadata": {
        "id": "w22GAZKrqKO9"
      }
    },
    {
      "cell_type": "markdown",
      "source": [
        "7. Formatters are objects whic are used to give structure to logging records. The following message format string will log the time in a human-readable format, the severity of the message, and the contents of the message, in that order:\n",
        "\n",
        "  '%(asctime)s - %(levelname)s - %(message)s'"
      ],
      "metadata": {
        "id": "wkImytVLz88v"
      }
    },
    {
      "cell_type": "markdown",
      "source": [
        "8. To capture log messages from multiple modules or classes in a Python application, we can use built-in logging module. Here's an example of how this can configure logging to capture logs from different modules and classes:\n",
        "import logging\n",
        "\n",
        "  logging.basicConfig(level=logging.Debug,format='%(asctime)s:%(levelname)s:%(name)s:%(message)s',handler=logging.StreamHandler())\n",
        "  logger = logging.getLogger(__name__) #we can specify loggers for different modules nd clases using this\n",
        "  logger.debug('This is a debug message')\n",
        "  logger.info('This is an info message')\n",
        "  logger.warning('This is a warning message')\n",
        "  logger.error('This is an error message')\n",
        "  logger.critical('This is a critical message')"
      ],
      "metadata": {
        "id": "nCi8Zg_QO8j7"
      }
    },
    {
      "cell_type": "markdown",
      "source": [
        "9. Print provide basic debugging by displaying some of the event markers in  a program,while logging provide a elaborte debuggng mechanism with various formatting options giving timestamp and logging level with different levels of severeity"
      ],
      "metadata": {
        "id": "DiRpd4BGMA98"
      }
    },
    {
      "cell_type": "markdown",
      "source": [
        "10. Code is written below"
      ],
      "metadata": {
        "id": "BXUE40mmeU4X"
      }
    },
    {
      "cell_type": "code",
      "source": [
        "import os\n",
        "import logging\n",
        "\n",
        "# Specify the directory and file\n",
        "dir_path = r'/home/jovyan/work'  #r is ued to avid issues with \\ for eg to take care of characters like \\n or \\t\n",
        "#print(dir_path)\n",
        "\n",
        "\n",
        "\n",
        "log_file = 'app.log'\n",
        "full_path = os.path.join(dir_path, log_file)\n",
        "\n",
        "# Check if the directory exists and create it if necessary\n",
        "os.makedirs(dir_path, exist_ok=True)\n",
        "\n",
        "# Set up logging\n",
        "# Get a logger instance (this will fetch the root logger)\n",
        "logger = logging.getLogger()\n",
        "\n",
        "# Set the level of the logger to INFO\n",
        "# This means it will handle events of level INFO and above\n",
        "logger.setLevel(logging.INFO)\n",
        "\n",
        "# Create a FileHandler instance to write logs to a file\n",
        "handler = logging.FileHandler(full_path)\n",
        "\n",
        "# Set the format of the logs using a Formatter\n",
        "# This format includes the log timestamp, log level and log message\n",
        "handler.setFormatter(logging.Formatter('%(asctime)s:%(levelname)s:%(message)s'))\n",
        "\n",
        "# Add the handler to the logger\n",
        "# This connects the logger to the handler so that logs get written to the file\n",
        "logger.addHandler(handler)\n",
        "\n",
        "logging.info('Hello World')"
      ],
      "metadata": {
        "id": "1gjimiU2eMo1"
      },
      "execution_count": null,
      "outputs": []
    },
    {
      "cell_type": "markdown",
      "source": [
        "11. Code is written below"
      ],
      "metadata": {
        "id": "OXj5gQEjYbYw"
      }
    },
    {
      "cell_type": "code",
      "source": [
        "import os\n",
        "import logging\n",
        "\n",
        "# Specify the directory and file\n",
        "dir_path = r'/home/jovyan/work'  #r is ued to avid issues with \\ for eg to take care of characters like \\n or \\t\n",
        "#print(dir_path)\n",
        "\n",
        "\n",
        "\n",
        "log_file = 'errors.log'\n",
        "full_path = os.path.join(dir_path, log_file)\n",
        "\n",
        "# Check if the directory exists and create it if necessary\n",
        "os.makedirs(dir_path, exist_ok=True)\n",
        "\n",
        "# Set up logging\n",
        "# Get a logger instance (this will fetch the root logger)\n",
        "logger = logging.getLogger()\n",
        "\n",
        "# Set the level of the logger to ERROR\n",
        "# This means it will handle events of level ERROR and above\n",
        "logger.setLevel(logging.ERROR)\n",
        "\n",
        "# Create a FileHandler instance to write logs to a file\n",
        "handler = logging.FileHandler(full_path)\n",
        "\n",
        "# Set the format of the logs using a Formatter\n",
        "# This format includes the log timestamp, log level and log message\n",
        "handler.setFormatter(logging.Formatter('%(asctime)s:%(levelname)s:%(message)s'))\n",
        "\n",
        "# Add the handler to the logger\n",
        "# This connects the logger to the handler so that logs get written to the file\n",
        "logger.addHandler(handler)\n",
        "\n",
        "def LetUsCheckSystem(sys):\n",
        "    if sys != 'OK':\n",
        "        logging.critical('System failure: %s', sys)\n",
        "\n",
        "LetUsCheckSystem('You need to handle the issue now')\n",
        "handler.close()"
      ],
      "metadata": {
        "colab": {
          "base_uri": "https://localhost:8080/"
        },
        "id": "ri-lItQviM4p",
        "outputId": "028b74fc-f2c7-4c3a-88e7-27dc9bd249a2"
      },
      "execution_count": null,
      "outputs": [
        {
          "output_type": "stream",
          "name": "stderr",
          "text": [
            "CRITICAL:root:System failure: You need to handle the issue now\n"
          ]
        }
      ]
    }
  ]
}