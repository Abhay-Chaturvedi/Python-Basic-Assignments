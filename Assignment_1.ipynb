{
  "nbformat": 4,
  "nbformat_minor": 0,
  "metadata": {
    "colab": {
      "provenance": []
    },
    "kernelspec": {
      "name": "python3",
      "display_name": "Python 3"
    },
    "language_info": {
      "name": "python"
    }
  },
  "cells": [
    {
      "cell_type": "code",
      "execution_count": null,
      "metadata": {
        "id": "ZnUxaHFsi7Ux"
      },
      "outputs": [],
      "source": []
    },
    {
      "cell_type": "markdown",
      "source": [
        "1. In the below elements which of them are values or an expression? eg:- values can be integer or string and expressions will be mathematical operators.\n",
        "*  \t\t Expression\n",
        "'hello'\t \t Value\n",
        "-87.8\t\t Value\n",
        "- \t\t Expression\n",
        "/ \t\tExpression\n",
        "+\t             Expression\n",
        "6 \t\tValue\n",
        "\n",
        "2. What is the difference between string and variable?\n",
        "Ans: String is a set of characters which hold some value while variable is a place holder to store values of different types.\n",
        "\n",
        "3. Describe three different data types.\n",
        "Ans: \tNumeric: It holds numeric values like integer or decimal.\n",
        "String: It holds characters\n",
        "Boolean: It hods values like True or False.\n",
        "4. What is an expression made up of? What do all expressions do?\n",
        "Ans: Expressions are made of variables, values and operators. Expressions perform logical, arithmetic and other types of operations which return some value\n",
        "5. This assignment statements, like spam = 10. What is the difference between an expression and a statement?\n",
        "A statement is any instruction which can be executed by a programming language llike Python.\n",
        "6. After running the following code, what does the variable bacon contain?\n",
        "bacon = 22\n",
        "bacon + 1\n",
        "Ans: 22\n",
        "\n",
        "7. What should the values of the following two terms be?\n",
        "'spam' + 'spamspam'\t:\t'spamspamspam'\n",
        "'spam' * 3\t\t:\t'spamspampam'\n",
        "\n",
        "8. Why is eggs a valid variable name while 100 is invalid?\n",
        "Ans: Because a variable can’t start with a number.\n",
        "9. What three functions can be used to get the integer, floating-point number, or string version of a value?\n",
        "Ans: int(), float(), chr()\n",
        "10. Why does this expression cause an error? How can you fix it?\n",
        "'I have eaten ' + 99 + ' burritos.'\n",
        "Ans: 'I have eaten ' + '99' + ' burritos.'\n",
        "\n",
        "\n",
        "\n",
        "\n",
        "\n"
      ],
      "metadata": {
        "id": "M5G0Ne-SjZI4"
      }
    }
  ]
}